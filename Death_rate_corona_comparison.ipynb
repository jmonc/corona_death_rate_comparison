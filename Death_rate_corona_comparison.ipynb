{
 "cells": [
  {
   "cell_type": "code",
   "execution_count": 1,
   "metadata": {},
   "outputs": [],
   "source": [
    "import pandas as pd\n",
    "import numpy as np\n",
    "import matplotlib.pyplot as plt\n",
    "from mpl_toolkits.axes_grid1.inset_locator import inset_axes\n",
    "plt.style.use('seaborn')\n",
    "\n",
    "## Extracting coronavirus data from a secondary source:\n",
    "\n",
    "ccdc_data=pd.read_html('https://www.worldometers.info/coronavirus/coronavirus-age-sex-demographics/')\n",
    "ccdc_data[0].iloc[:,[0,2]].set_index(0)\n",
    "\n",
    "\n",
    "## USA data used at end\n",
    "us_death_rate=pd.read_html('https://www.statista.com/statistics/241572/death-rate-by-age-and-sex-in-the-us/')[0].iloc[2:,:].reset_index(drop=True)\n",
    "us_population=pd.read_html('https://www.statista.com/statistics/241488/population-of-the-us-by-sex-and-age/')[0]\n",
    "\n",
    "#### UK data used at end\n",
    "\n",
    "### For death rage:\n",
    "## Direct link:\n",
    "##'https://www.ons.gov.uk/file?uri=%2fpeoplepopulationandcommunity%2fbirthsdeathsandmarriages%2fdeaths%2fdatasets%2fdeathregistrationssummarytablesenglandandwalesdeathsbysingleyearofagetables%2f2018/deathsyoauk2018.xls'\n",
    "## Found on this page:\n",
    "##'https://www.ons.gov.uk/peoplepopulationandcommunity/birthsdeathsandmarriages/deaths/datasets/deathregistrationssummarytablesenglandandwalesdeathsbysingleyearofagetables'\n",
    "\n",
    "### For population:\n",
    "## Direct link:\n",
    "## https://www.ons.gov.uk/visualisations/dvc671/pyramids2/datadownload.xls\n",
    "## Found on this page\n",
    "## 'https://www.ons.gov.uk/peoplepopulationandcommunity/populationandmigration/populationestimates/articles/overviewoftheukpopulation/august2019'"
   ]
  },
  {
   "cell_type": "markdown",
   "metadata": {},
   "source": [
    "## Coronavirus data\n",
    "Table from [the CCDC febuary 17th report pdf](http://weekly.chinacdc.cn/en/article/id/e53946e2-c6c4-41e9-9a9b-fea8db1a8f51)  copy pasted into a text file ('corona.txt')\n",
    "\n",
    "Commas removed to ease importing."
   ]
  },
  {
   "cell_type": "code",
   "execution_count": 2,
   "metadata": {
    "scrolled": true
   },
   "outputs": [
    {
     "data": {
      "text/html": [
       "<div>\n",
       "<style scoped>\n",
       "    .dataframe tbody tr th:only-of-type {\n",
       "        vertical-align: middle;\n",
       "    }\n",
       "\n",
       "    .dataframe tbody tr th {\n",
       "        vertical-align: top;\n",
       "    }\n",
       "\n",
       "    .dataframe thead th {\n",
       "        text-align: right;\n",
       "    }\n",
       "</style>\n",
       "<table border=\"1\" class=\"dataframe\">\n",
       "  <thead>\n",
       "    <tr style=\"text-align: right;\">\n",
       "      <th></th>\n",
       "      <th>Confirmed cases, N (%)</th>\n",
       "      <th>Deaths, N (%)</th>\n",
       "      <th>Case fatality rate, %</th>\n",
       "      <th>Observed time, PD</th>\n",
       "      <th>Mortality, per 10 PD\\r</th>\n",
       "    </tr>\n",
       "    <tr>\n",
       "      <th>Age, years</th>\n",
       "      <th></th>\n",
       "      <th></th>\n",
       "      <th></th>\n",
       "      <th></th>\n",
       "      <th></th>\n",
       "    </tr>\n",
       "  </thead>\n",
       "  <tbody>\n",
       "    <tr>\n",
       "      <th>0–9</th>\n",
       "      <td>416 (0.9)</td>\n",
       "      <td>−</td>\n",
       "      <td>−</td>\n",
       "      <td>4,383</td>\n",
       "      <td>−\\r</td>\n",
       "    </tr>\n",
       "    <tr>\n",
       "      <th>10–19</th>\n",
       "      <td>549 (1.2)</td>\n",
       "      <td>1 (0.1)</td>\n",
       "      <td>0.2</td>\n",
       "      <td>6,625</td>\n",
       "      <td>0.002\\r</td>\n",
       "    </tr>\n",
       "  </tbody>\n",
       "</table>\n",
       "</div>"
      ],
      "text/plain": [
       "           Confirmed cases, N (%) Deaths, N (%) Case fatality rate, %  \\\n",
       "Age, years                                                              \n",
       "0–9                     416 (0.9)             −                     −   \n",
       "10–19                   549 (1.2)       1 (0.1)                   0.2   \n",
       "\n",
       "           Observed time, PD Mortality, per 10 PD\\r  \n",
       "Age, years                                           \n",
       "0–9                    4,383                    −\\r  \n",
       "10–19                  6,625                0.002\\r  "
      ]
     },
     "execution_count": 2,
     "metadata": {},
     "output_type": "execute_result"
    }
   ],
   "source": [
    "corona_df_imp = pd.read_csv('corona.txt', sep='\\t', lineterminator='\\n').set_index('Age, years')\n",
    "corona_df_imp.head(2)"
   ]
  },
  {
   "cell_type": "code",
   "execution_count": 3,
   "metadata": {
    "scrolled": true
   },
   "outputs": [
    {
     "data": {
      "text/html": [
       "<div>\n",
       "<style scoped>\n",
       "    .dataframe tbody tr th:only-of-type {\n",
       "        vertical-align: middle;\n",
       "    }\n",
       "\n",
       "    .dataframe tbody tr th {\n",
       "        vertical-align: top;\n",
       "    }\n",
       "\n",
       "    .dataframe thead th {\n",
       "        text-align: right;\n",
       "    }\n",
       "</style>\n",
       "<table border=\"1\" class=\"dataframe\">\n",
       "  <thead>\n",
       "    <tr style=\"text-align: right;\">\n",
       "      <th></th>\n",
       "      <th>Confirmed cases, N (%)</th>\n",
       "      <th>Deaths, N (%)</th>\n",
       "      <th>Case fatality rate in China, %</th>\n",
       "    </tr>\n",
       "    <tr>\n",
       "      <th>Age, years</th>\n",
       "      <th></th>\n",
       "      <th></th>\n",
       "      <th></th>\n",
       "    </tr>\n",
       "  </thead>\n",
       "  <tbody>\n",
       "    <tr>\n",
       "      <th>0–9</th>\n",
       "      <td>416</td>\n",
       "      <td>0</td>\n",
       "      <td>0.000000</td>\n",
       "    </tr>\n",
       "    <tr>\n",
       "      <th>10–19</th>\n",
       "      <td>549</td>\n",
       "      <td>1</td>\n",
       "      <td>0.182149</td>\n",
       "    </tr>\n",
       "  </tbody>\n",
       "</table>\n",
       "</div>"
      ],
      "text/plain": [
       "            Confirmed cases, N (%)  Deaths, N (%)  \\\n",
       "Age, years                                          \n",
       "0–9                            416              0   \n",
       "10–19                          549              1   \n",
       "\n",
       "            Case fatality rate in China, %  \n",
       "Age, years                                  \n",
       "0–9                               0.000000  \n",
       "10–19                             0.182149  "
      ]
     },
     "execution_count": 3,
     "metadata": {},
     "output_type": "execute_result"
    }
   ],
   "source": [
    "corona_df=corona_df_imp.iloc[:,:2].applymap(lambda x: x.split('(')[0]).replace({'−':0}).astype(int)\n",
    "corona_df['Case fatality rate in China, %'] = 100*corona_df['Deaths, N (%)']/corona_df['Confirmed cases, N (%)']\n",
    "corona_df.head(2)"
   ]
  },
  {
   "cell_type": "markdown",
   "metadata": {},
   "source": [
    "## Comparison of chinese death rates and coronavirus\n",
    "\n",
    "The best data for populations and deaths I could find for China was from the census taken 10 years ago.\n",
    "Ofcourse the death rate will have changed in such a modernising country.\n"
   ]
  },
  {
   "cell_type": "code",
   "execution_count": 4,
   "metadata": {},
   "outputs": [],
   "source": [
    "\n",
    "df_chn=pd.read_html('http://www.stats.gov.cn/english/Statisticaldata/CensusData/rkpc2010/html/a0604a.htm', skiprows=4)[0].set_index(0).iloc[range(1,126,6),:6]"
   ]
  },
  {
   "cell_type": "code",
   "execution_count": 5,
   "metadata": {},
   "outputs": [],
   "source": [
    "## Aggregating to 10 years\n",
    "\n",
    "df_chn=df_chn.append(pd.Series(np.zeros(6), index = df_chn.columns,name = ''))\n",
    "df_chn_10 = (df_chn.iloc[::2].reset_index()+df_chn.iloc[1::2].reset_index())\n",
    "df_chn_10.columns = ('Index','Total pop','Male pop','Female pop','Total deaths','Male deaths','Female deaths')\n",
    "df_chn_10=df_chn_10.set_index('Index')"
   ]
  },
  {
   "cell_type": "code",
   "execution_count": 6,
   "metadata": {},
   "outputs": [],
   "source": [
    "## Aggregating all 80+ entries\n",
    "df_chn_80 = df_chn_10.iloc[-3:].sum()\n",
    "df_chn_80.name = '80 + '\n",
    "df_chn_10 = df_chn_10.iloc[:-3].append(df_chn_80)"
   ]
  },
  {
   "cell_type": "code",
   "execution_count": 7,
   "metadata": {},
   "outputs": [],
   "source": [
    "df_chn_10.index = corona_df.index\n",
    "\n",
    "df_chn_10['Total death rate'] = 100*df_chn_10['Total deaths']/df_chn_10['Total pop']\n",
    "df_chn_10['Male death rate'] = 100*df_chn_10['Male deaths']/df_chn_10['Male pop']\n",
    "df_chn_10['Female death rate'] = 100*df_chn_10['Female deaths']/df_chn_10['Female pop']"
   ]
  },
  {
   "cell_type": "code",
   "execution_count": 10,
   "metadata": {
    "scrolled": true
   },
   "outputs": [
    {
     "data": {
      "image/png": "[encoded data removed]",
      "text/plain": [
       "<Figure size 576x432 with 2 Axes>"
      ]
     },
     "metadata": {
      "needs_background": "light"
     },
     "output_type": "display_data"
    }
   ],
   "source": [
    "fig, ax = plt.subplots()\n",
    " \n",
    "\n",
    "dft=pd.concat((df_chn_10.iloc[:,-3:],corona_df['Case fatality rate in China, %'] ), axis=1)\n",
    "\n",
    "\n",
    "legend = ('Total mortality rate in China in 2010','Male death rate in China in 2010',\n",
    "          'Female death rate in China in 2010',\n",
    "          'Death probability after catching coronavirus in China')\n",
    "dft.columns=legend\n",
    "\n",
    "\n",
    "dft.iloc[:].plot(kind='bar', ax=ax, figsize=(8,6), color=list('kbgr')*9)\n",
    "\n",
    "ax.legend(loc=2, prop={'size': 12})\n",
    "\n",
    "plt.ylabel('Probability of death (%)',size=12)\n",
    "plt.xlabel('Age range', size=12)\n",
    "plt.title('Comparison of risk in China', fontsize=16,fontname='Ubuntu')\n",
    "\n",
    "axins = inset_axes(ax, \"40%\", \"30%\", loc=6,borderpad =4)\n",
    "axins.set_facecolor('xkcd:pastel purple')\n",
    "plt.title('Zoom into 0-49 year range')\n",
    "\n",
    "dft.iloc[:5,:].plot(kind='bar',ax=axins, color=list('kbgr')*9)\n",
    "axins.get_legend().remove()\n",
    "textstr = \"\"\"2010 death rate census data: http://www.stats.gov.cn/english/Statisticaldata/CensusData/rkpc2010/html/a0604a.htm \\n \n",
    "CCDC, Feb 17. Coronavirus data: http://weekly.chinacdc.cn/en/article/id/e53946e2-c6c4-41e9-9a9b-fea8db1a8f51\"\"\"\n",
    "props = dict(boxstyle='round', facecolor='wheat', alpha=1.)\n",
    "\n",
    "ax.text(-.05, -.17, textstr, transform=ax.transAxes, fontsize=9,\n",
    "        verticalalignment='top', linespacing = 0.5    )\n",
    "\n",
    "plt.savefig('dr_vs_corona.png', bbox_inches='tight')"
   ]
  },
  {
   "cell_type": "markdown",
   "metadata": {},
   "source": [
    "# Addition of annual death rates of USA and UK\n",
    "\n",
    "This is a even worse weaker comparison than above, only used for extra context"
   ]
  },
  {
   "cell_type": "code",
   "execution_count": 9,
   "metadata": {},
   "outputs": [
    {
     "ename": "FileNotFoundError",
     "evalue": "[Errno 2] File b'country_comparions.csv' does not exist: b'country_comparions.csv'",
     "output_type": "error",
     "traceback": [
      "\u001b[1;31m---------------------------------------------------------------------------\u001b[0m",
      "\u001b[1;31mFileNotFoundError\u001b[0m                         Traceback (most recent call last)",
      "\u001b[1;32m<ipython-input-9-0659c04064bc>\u001b[0m in \u001b[0;36m<module>\u001b[1;34m\u001b[0m\n\u001b[1;32m----> 1\u001b[1;33m \u001b[0mdf_all\u001b[0m\u001b[1;33m=\u001b[0m\u001b[0mpd\u001b[0m\u001b[1;33m.\u001b[0m\u001b[0mread_csv\u001b[0m\u001b[1;33m(\u001b[0m\u001b[1;34m'country_comparions.csv'\u001b[0m\u001b[1;33m)\u001b[0m\u001b[1;33m\u001b[0m\u001b[1;33m\u001b[0m\u001b[0m\n\u001b[0m\u001b[0;32m      2\u001b[0m \u001b[0mdf_all\u001b[0m\u001b[1;33m.\u001b[0m\u001b[0mhead\u001b[0m\u001b[1;33m(\u001b[0m\u001b[1;33m)\u001b[0m\u001b[1;33m\u001b[0m\u001b[1;33m\u001b[0m\u001b[0m\n",
      "\u001b[1;32m~\\Anaconda3\\envs\\datavenv\\lib\\site-packages\\pandas\\io\\parsers.py\u001b[0m in \u001b[0;36mparser_f\u001b[1;34m(filepath_or_buffer, sep, delimiter, header, names, index_col, usecols, squeeze, prefix, mangle_dupe_cols, dtype, engine, converters, true_values, false_values, skipinitialspace, skiprows, skipfooter, nrows, na_values, keep_default_na, na_filter, verbose, skip_blank_lines, parse_dates, infer_datetime_format, keep_date_col, date_parser, dayfirst, cache_dates, iterator, chunksize, compression, thousands, decimal, lineterminator, quotechar, quoting, doublequote, escapechar, comment, encoding, dialect, error_bad_lines, warn_bad_lines, delim_whitespace, low_memory, memory_map, float_precision)\u001b[0m\n\u001b[0;32m    683\u001b[0m         )\n\u001b[0;32m    684\u001b[0m \u001b[1;33m\u001b[0m\u001b[0m\n\u001b[1;32m--> 685\u001b[1;33m         \u001b[1;32mreturn\u001b[0m \u001b[0m_read\u001b[0m\u001b[1;33m(\u001b[0m\u001b[0mfilepath_or_buffer\u001b[0m\u001b[1;33m,\u001b[0m \u001b[0mkwds\u001b[0m\u001b[1;33m)\u001b[0m\u001b[1;33m\u001b[0m\u001b[1;33m\u001b[0m\u001b[0m\n\u001b[0m\u001b[0;32m    686\u001b[0m \u001b[1;33m\u001b[0m\u001b[0m\n\u001b[0;32m    687\u001b[0m     \u001b[0mparser_f\u001b[0m\u001b[1;33m.\u001b[0m\u001b[0m__name__\u001b[0m \u001b[1;33m=\u001b[0m \u001b[0mname\u001b[0m\u001b[1;33m\u001b[0m\u001b[1;33m\u001b[0m\u001b[0m\n",
      "\u001b[1;32m~\\Anaconda3\\envs\\datavenv\\lib\\site-packages\\pandas\\io\\parsers.py\u001b[0m in \u001b[0;36m_read\u001b[1;34m(filepath_or_buffer, kwds)\u001b[0m\n\u001b[0;32m    455\u001b[0m \u001b[1;33m\u001b[0m\u001b[0m\n\u001b[0;32m    456\u001b[0m     \u001b[1;31m# Create the parser.\u001b[0m\u001b[1;33m\u001b[0m\u001b[1;33m\u001b[0m\u001b[1;33m\u001b[0m\u001b[0m\n\u001b[1;32m--> 457\u001b[1;33m     \u001b[0mparser\u001b[0m \u001b[1;33m=\u001b[0m \u001b[0mTextFileReader\u001b[0m\u001b[1;33m(\u001b[0m\u001b[0mfp_or_buf\u001b[0m\u001b[1;33m,\u001b[0m \u001b[1;33m**\u001b[0m\u001b[0mkwds\u001b[0m\u001b[1;33m)\u001b[0m\u001b[1;33m\u001b[0m\u001b[1;33m\u001b[0m\u001b[0m\n\u001b[0m\u001b[0;32m    458\u001b[0m \u001b[1;33m\u001b[0m\u001b[0m\n\u001b[0;32m    459\u001b[0m     \u001b[1;32mif\u001b[0m \u001b[0mchunksize\u001b[0m \u001b[1;32mor\u001b[0m \u001b[0miterator\u001b[0m\u001b[1;33m:\u001b[0m\u001b[1;33m\u001b[0m\u001b[1;33m\u001b[0m\u001b[0m\n",
      "\u001b[1;32m~\\Anaconda3\\envs\\datavenv\\lib\\site-packages\\pandas\\io\\parsers.py\u001b[0m in \u001b[0;36m__init__\u001b[1;34m(self, f, engine, **kwds)\u001b[0m\n\u001b[0;32m    893\u001b[0m             \u001b[0mself\u001b[0m\u001b[1;33m.\u001b[0m\u001b[0moptions\u001b[0m\u001b[1;33m[\u001b[0m\u001b[1;34m\"has_index_names\"\u001b[0m\u001b[1;33m]\u001b[0m \u001b[1;33m=\u001b[0m \u001b[0mkwds\u001b[0m\u001b[1;33m[\u001b[0m\u001b[1;34m\"has_index_names\"\u001b[0m\u001b[1;33m]\u001b[0m\u001b[1;33m\u001b[0m\u001b[1;33m\u001b[0m\u001b[0m\n\u001b[0;32m    894\u001b[0m \u001b[1;33m\u001b[0m\u001b[0m\n\u001b[1;32m--> 895\u001b[1;33m         \u001b[0mself\u001b[0m\u001b[1;33m.\u001b[0m\u001b[0m_make_engine\u001b[0m\u001b[1;33m(\u001b[0m\u001b[0mself\u001b[0m\u001b[1;33m.\u001b[0m\u001b[0mengine\u001b[0m\u001b[1;33m)\u001b[0m\u001b[1;33m\u001b[0m\u001b[1;33m\u001b[0m\u001b[0m\n\u001b[0m\u001b[0;32m    896\u001b[0m \u001b[1;33m\u001b[0m\u001b[0m\n\u001b[0;32m    897\u001b[0m     \u001b[1;32mdef\u001b[0m \u001b[0mclose\u001b[0m\u001b[1;33m(\u001b[0m\u001b[0mself\u001b[0m\u001b[1;33m)\u001b[0m\u001b[1;33m:\u001b[0m\u001b[1;33m\u001b[0m\u001b[1;33m\u001b[0m\u001b[0m\n",
      "\u001b[1;32m~\\Anaconda3\\envs\\datavenv\\lib\\site-packages\\pandas\\io\\parsers.py\u001b[0m in \u001b[0;36m_make_engine\u001b[1;34m(self, engine)\u001b[0m\n\u001b[0;32m   1133\u001b[0m     \u001b[1;32mdef\u001b[0m \u001b[0m_make_engine\u001b[0m\u001b[1;33m(\u001b[0m\u001b[0mself\u001b[0m\u001b[1;33m,\u001b[0m \u001b[0mengine\u001b[0m\u001b[1;33m=\u001b[0m\u001b[1;34m\"c\"\u001b[0m\u001b[1;33m)\u001b[0m\u001b[1;33m:\u001b[0m\u001b[1;33m\u001b[0m\u001b[1;33m\u001b[0m\u001b[0m\n\u001b[0;32m   1134\u001b[0m         \u001b[1;32mif\u001b[0m \u001b[0mengine\u001b[0m \u001b[1;33m==\u001b[0m \u001b[1;34m\"c\"\u001b[0m\u001b[1;33m:\u001b[0m\u001b[1;33m\u001b[0m\u001b[1;33m\u001b[0m\u001b[0m\n\u001b[1;32m-> 1135\u001b[1;33m             \u001b[0mself\u001b[0m\u001b[1;33m.\u001b[0m\u001b[0m_engine\u001b[0m \u001b[1;33m=\u001b[0m \u001b[0mCParserWrapper\u001b[0m\u001b[1;33m(\u001b[0m\u001b[0mself\u001b[0m\u001b[1;33m.\u001b[0m\u001b[0mf\u001b[0m\u001b[1;33m,\u001b[0m \u001b[1;33m**\u001b[0m\u001b[0mself\u001b[0m\u001b[1;33m.\u001b[0m\u001b[0moptions\u001b[0m\u001b[1;33m)\u001b[0m\u001b[1;33m\u001b[0m\u001b[1;33m\u001b[0m\u001b[0m\n\u001b[0m\u001b[0;32m   1136\u001b[0m         \u001b[1;32melse\u001b[0m\u001b[1;33m:\u001b[0m\u001b[1;33m\u001b[0m\u001b[1;33m\u001b[0m\u001b[0m\n\u001b[0;32m   1137\u001b[0m             \u001b[1;32mif\u001b[0m \u001b[0mengine\u001b[0m \u001b[1;33m==\u001b[0m \u001b[1;34m\"python\"\u001b[0m\u001b[1;33m:\u001b[0m\u001b[1;33m\u001b[0m\u001b[1;33m\u001b[0m\u001b[0m\n",
      "\u001b[1;32m~\\Anaconda3\\envs\\datavenv\\lib\\site-packages\\pandas\\io\\parsers.py\u001b[0m in \u001b[0;36m__init__\u001b[1;34m(self, src, **kwds)\u001b[0m\n\u001b[0;32m   1915\u001b[0m         \u001b[0mkwds\u001b[0m\u001b[1;33m[\u001b[0m\u001b[1;34m\"usecols\"\u001b[0m\u001b[1;33m]\u001b[0m \u001b[1;33m=\u001b[0m \u001b[0mself\u001b[0m\u001b[1;33m.\u001b[0m\u001b[0musecols\u001b[0m\u001b[1;33m\u001b[0m\u001b[1;33m\u001b[0m\u001b[0m\n\u001b[0;32m   1916\u001b[0m \u001b[1;33m\u001b[0m\u001b[0m\n\u001b[1;32m-> 1917\u001b[1;33m         \u001b[0mself\u001b[0m\u001b[1;33m.\u001b[0m\u001b[0m_reader\u001b[0m \u001b[1;33m=\u001b[0m \u001b[0mparsers\u001b[0m\u001b[1;33m.\u001b[0m\u001b[0mTextReader\u001b[0m\u001b[1;33m(\u001b[0m\u001b[0msrc\u001b[0m\u001b[1;33m,\u001b[0m \u001b[1;33m**\u001b[0m\u001b[0mkwds\u001b[0m\u001b[1;33m)\u001b[0m\u001b[1;33m\u001b[0m\u001b[1;33m\u001b[0m\u001b[0m\n\u001b[0m\u001b[0;32m   1918\u001b[0m         \u001b[0mself\u001b[0m\u001b[1;33m.\u001b[0m\u001b[0munnamed_cols\u001b[0m \u001b[1;33m=\u001b[0m \u001b[0mself\u001b[0m\u001b[1;33m.\u001b[0m\u001b[0m_reader\u001b[0m\u001b[1;33m.\u001b[0m\u001b[0munnamed_cols\u001b[0m\u001b[1;33m\u001b[0m\u001b[1;33m\u001b[0m\u001b[0m\n\u001b[0;32m   1919\u001b[0m \u001b[1;33m\u001b[0m\u001b[0m\n",
      "\u001b[1;32mpandas\\_libs\\parsers.pyx\u001b[0m in \u001b[0;36mpandas._libs.parsers.TextReader.__cinit__\u001b[1;34m()\u001b[0m\n",
      "\u001b[1;32mpandas\\_libs\\parsers.pyx\u001b[0m in \u001b[0;36mpandas._libs.parsers.TextReader._setup_parser_source\u001b[1;34m()\u001b[0m\n",
      "\u001b[1;31mFileNotFoundError\u001b[0m: [Errno 2] File b'country_comparions.csv' does not exist: b'country_comparions.csv'"
     ]
    }
   ],
   "source": [
    "df_all=pd.read_csv('country_comparions.csv')\n",
    "df_all.head()"
   ]
  },
  {
   "cell_type": "code",
   "execution_count": null,
   "metadata": {},
   "outputs": [],
   "source": [
    "dft = df_all.loc[:,['Total chn dr','US average death rate (%)','Total UK dr','Case fatality rate in China, %']]"
   ]
  },
  {
   "cell_type": "code",
   "execution_count": null,
   "metadata": {},
   "outputs": [],
   "source": [
    "fig, ax = plt.subplots()\n",
    "plt.style.use('seaborn')\n",
    "\n",
    "\n",
    "legend = ('Total mortality rate in China in 2010','Total mortality rate in USA in 2010',\n",
    "          'Total mortality rate in UK in 2010',\n",
    "          'Death probability after catching coronavirus in China')\n",
    "dft.columns=legend\n",
    "\n",
    "\n",
    "dft.iloc[:].plot(kind='bar', ax=ax, figsize=(8,6), color=list('kbgr')*9)\n",
    "\n",
    "ax.legend(loc=2, prop={'size': 12})\n",
    "\n",
    "plt.ylabel('Probability of death (%)',size=12)\n",
    "plt.xlabel('Age range', size=12)\n",
    "plt.title('Comparison of risk in China', fontsize=16,fontname='Ubuntu')\n",
    "\n",
    "axins = inset_axes(ax, \"40%\", \"30%\", loc=6,borderpad =4)\n",
    "axins.set_facecolor('xkcd:pastel purple')\n",
    "plt.title('Zoom into 0-49 year range')\n",
    "\n",
    "dft.iloc[:5,:].plot(kind='bar',ax=axins, color=list('kbgr')*9)\n",
    "axins.get_legend().remove()\n",
    "# textstr = \"\"\"2010 death rate census data: http://www.stats.gov.cn/english/Statisticaldata/CensusData/rkpc2010/html/a0604a.htm \\n \n",
    "# CCDC, Feb 17. Coronavirus data: http://weekly.chinacdc.cn/en/article/id/e53946e2-c6c4-41e9-9a9b-fea8db1a8f51\"\"\"\n",
    "# props = dict(boxstyle='round', facecolor='wheat', alpha=1.)\n",
    "\n",
    "# ax.text(-.05, -.17, textstr, transform=ax.transAxes, fontsize=9,\n",
    "#         verticalalignment='top', linespacing = 0.5    )\n",
    "\n",
    "plt.savefig('country_vs_corona.png', bbox_inches='tight')"
   ]
  },
  {
   "cell_type": "markdown",
   "metadata": {},
   "source": [
    "# Below is the derivations of USA and UK data\n",
    "Basically deriving the 10 year death rates (to match coronavirus statistics), which require summations of populations and deaths for each 10 year range, averaging the death rates would lead to inaccuracies. "
   ]
  },
  {
   "cell_type": "markdown",
   "metadata": {},
   "source": [
    "## Derivation of 10 year period US death rates"
   ]
  },
  {
   "cell_type": "code",
   "execution_count": null,
   "metadata": {},
   "outputs": [],
   "source": [
    "df_dr_us_import = pd.read_html('https://www.statista.com/statistics/241572/death-rate-by-age-and-sex-in-the-us/')[0]\n",
    "df_dr_us = df_dr_us_import.iloc[2:].set_index('Age Group')\n",
    "df_dr_us.iloc[0,:]=df_dr_us.iloc[0,:]+df_dr_us_import.iloc[1,1:].values\n",
    "df_dr_us.columns = ['M death rate (per 100,000)', 'F death rate (per 100,000)']\n",
    "df_pop_us = us_population.set_index('Age in years')\n",
    "df_pop_us.columns = ['M population (millions)', 'F population (millions)']\n",
    "\n",
    "df_dr_us.index = df_pop_us.index\n",
    "df_us = pd.concat([df_pop_us,df_dr_us],axis=1)\n"
   ]
  },
  {
   "cell_type": "code",
   "execution_count": null,
   "metadata": {},
   "outputs": [],
   "source": [
    "df_us['T population (millions)']=df_us['M population (millions)']+df_us['F population (millions)']"
   ]
  },
  {
   "cell_type": "code",
   "execution_count": null,
   "metadata": {},
   "outputs": [],
   "source": [
    "# df_us['M deaths'] = \n",
    "df_us['M deaths']=df_us['M population (millions)']*df_us['M death rate (per 100,000)']*10\n",
    "df_us['F deaths']=df_us['F population (millions)']*df_us['F death rate (per 100,000)']*10\n",
    "df_us['T deaths'] = df_us['M deaths']+df_us['F deaths']"
   ]
  },
  {
   "cell_type": "code",
   "execution_count": null,
   "metadata": {},
   "outputs": [],
   "source": [
    "## Aggregating to 10 years\n",
    "\n",
    "# df_us=df_us.append(pd.Series(np.zeros(6), index = df_us.columns,name = ''))\n",
    "df_us_10 = (df_us.iloc[::2].reset_index()+df_us.iloc[1::2].reset_index())\n",
    "df_us_10=df_us_10.loc[:,['M population (millions)','F population (millions)','T population (millions)','M deaths','F deaths','T deaths']]\n",
    "df_us_10['US male death rate (%)'] = df_us_10['M deaths']/(10000*df_us_10['M population (millions)'])\n",
    "df_us_10['US female death rate (%)'] = df_us_10['F deaths']/(10000*df_us_10['F population (millions)'])\n",
    "df_us_10['US average death rate (%)'] = df_us_10['T deaths']/(10000*df_us_10['T population (millions)'])\n",
    "df_us_10.index = corona_df.index\n",
    "df_us_10.head(5)"
   ]
  },
  {
   "cell_type": "markdown",
   "metadata": {},
   "source": [
    "### UK DATA"
   ]
  },
  {
   "cell_type": "code",
   "execution_count": null,
   "metadata": {},
   "outputs": [],
   "source": [
    "UK_m_deaths = pd.read_excel('deathsyoauk2018.xls', sheet_name='Table 1', skiprows=3, skipfooter=7).set_index('Age')[2018]\n",
    "UK_f_deaths = pd.read_excel('deathsyoauk2018.xls', sheet_name='Table 2', skiprows=3, skipfooter=7).set_index('Age')[2018]\n",
    "uk_pop = pd.read_excel('uk_pop_data.xls', sheet_name='2018').iloc[[0],:].T\n",
    "uk_pop= uk_pop.iloc[2:,0]\n",
    "num_years = int(uk_pop.shape[0]/2)\n",
    "df_uk_pop = pd.DataFrame([uk_pop.iloc[:num_years].values,uk_pop.iloc[num_years:].values]).T\n",
    "df_uk_pop_tot = df_uk_pop.iloc[-1:] ## Removing the tot present in the excel file\n",
    "df_uk_pop = df_uk_pop.iloc[:-1]\n",
    "df_uk_pop[2]=df_uk_pop[0]+df_uk_pop[1]\n",
    "df_uk_pop.columns = ['Male UK population','Female UK population','Total UK population']"
   ]
  },
  {
   "cell_type": "code",
   "execution_count": null,
   "metadata": {},
   "outputs": [],
   "source": [
    "df_uk_deaths = pd.DataFrame([UK_m_deaths,UK_f_deaths]).T\n",
    "df_uk_deaths.columns = ['Male UK deaths','Female UK deaths']\n",
    "display(df_uk_deaths.iloc[-2]) ## The total deaths\n",
    "df_uk_deaths = df_uk_deaths.iloc[:-3]\n",
    "df_uk_deaths['Total UK deaths'] = df_uk_deaths.iloc[:,0]+df_uk_deaths.iloc[:,1]"
   ]
  },
  {
   "cell_type": "code",
   "execution_count": null,
   "metadata": {},
   "outputs": [],
   "source": [
    "df_uk_full = pd.concat([df_uk_pop,df_uk_deaths], axis=1)"
   ]
  },
  {
   "cell_type": "code",
   "execution_count": null,
   "metadata": {},
   "outputs": [],
   "source": [
    "df_uk=pd.DataFrame([])\n",
    "for i in range(int(8)):\n",
    "    s = df_uk_full.iloc[10*i:10*(i+1)].sum(axis=0)\n",
    "    s.name = str(i)\n",
    "    df_uk=df_uk.append(s)\n",
    "    \n",
    "s = df_uk_full.iloc[80:-1].sum(axis=0)\n",
    "s.name = '80+'\n",
    "df_uk=df_uk.append(s)\n",
    "df_uk.index = corona_df.index"
   ]
  },
  {
   "cell_type": "code",
   "execution_count": null,
   "metadata": {},
   "outputs": [],
   "source": [
    "df_uk['Male UK dr'] = 100*df_uk['Male UK deaths']/df_uk['Male UK population']\n",
    "df_uk['Female UK dr'] = 100*df_uk['Female UK deaths']/df_uk['Female UK population']\n",
    "df_uk['Total UK dr'] = 100*df_uk['Total UK deaths']/df_uk['Total UK population']"
   ]
  },
  {
   "cell_type": "markdown",
   "metadata": {},
   "source": [
    "## Saving all formatted data for easy analysis\n",
    "\n"
   ]
  },
  {
   "cell_type": "code",
   "execution_count": null,
   "metadata": {},
   "outputs": [],
   "source": [
    "chinese_data = df_chn_10.iloc[:,-3:]\n",
    "chinese_data.columns = ['Total chn dr', 'Male chn death rate', 'Female chn dr']\n",
    "df_all=pd.concat((chinese_data,df_uk[['Male UK dr','Female UK dr','Total UK dr']],df_us_10.iloc[:,-3:],corona_df['Case fatality rate in China, %'] ), axis=1)\n",
    "df_all.to_csv('country_comparions.csv')"
   ]
  },
  {
   "cell_type": "code",
   "execution_count": null,
   "metadata": {},
   "outputs": [],
   "source": [
    "df_all_totals = df_all.loc[:,['Total chn dr','US average death rate (%)','Total UK dr','Case fatality rate in China, %']]"
   ]
  },
  {
   "cell_type": "code",
   "execution_count": null,
   "metadata": {},
   "outputs": [],
   "source": [
    "fig, ax = plt.subplots()\n",
    "plt.style.use('seaborn')\n",
    " \n",
    "\n",
    "dft=df_all_totals\n",
    "\n",
    "\n",
    "legend = ('Total mortality rate in China in 2010','Total mortality rate in USA in 2010',\n",
    "          'Total mortality rate in UK in 2010',\n",
    "          'Death probability after catching coronavirus in China')\n",
    "dft.columns=legend\n",
    "\n",
    "\n",
    "dft.iloc[:].plot(kind='bar', ax=ax, figsize=(8,6), color=list('kbgr')*9)\n",
    "\n",
    "ax.legend(loc=2, prop={'size': 12})\n",
    "\n",
    "plt.ylabel('Probability of death (%)',size=12)\n",
    "plt.xlabel('Age range', size=12)\n",
    "plt.title('Comparison of risk in China', fontsize=16,fontname='Ubuntu')\n",
    "\n",
    "axins = inset_axes(ax, \"40%\", \"30%\", loc=6,borderpad =4)\n",
    "axins.set_facecolor('xkcd:pastel purple')\n",
    "plt.title('Zoom into 0-49 year range')\n",
    "\n",
    "dft.iloc[:5,:].plot(kind='bar',ax=axins, color=list('kbgr')*9)\n",
    "axins.get_legend().remove()\n",
    "# textstr = \"\"\"2010 death rate census data: http://www.stats.gov.cn/english/Statisticaldata/CensusData/rkpc2010/html/a0604a.htm \\n \n",
    "# CCDC, Feb 17. Coronavirus data: http://weekly.chinacdc.cn/en/article/id/e53946e2-c6c4-41e9-9a9b-fea8db1a8f51\"\"\"\n",
    "# props = dict(boxstyle='round', facecolor='wheat', alpha=1.)\n",
    "\n",
    "# ax.text(-.05, -.17, textstr, transform=ax.transAxes, fontsize=9,\n",
    "#         verticalalignment='top', linespacing = 0.5    )\n",
    "\n",
    "plt.savefig('country_vs_corona.png', bbox_inches='tight')"
   ]
  }
 ],
 "metadata": {
  "kernelspec": {
   "display_name": "datavenv",
   "language": "python",
   "name": "datavenv"
  },
  "language_info": {
   "codemirror_mode": {
    "name": "ipython",
    "version": 3
   },
   "file_extension": ".py",
   "mimetype": "text/x-python",
   "name": "python",
   "nbconvert_exporter": "python",
   "pygments_lexer": "ipython3",
   "version": "3.7.5"
  }
 },
 "nbformat": 4,
 "nbformat_minor": 2
}
